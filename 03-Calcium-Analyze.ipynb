{
 "cells": [
  {
   "cell_type": "code",
   "execution_count": null,
   "metadata": {},
   "outputs": [],
   "source": [
    "%matplotlib inline\n",
    "import numpy as np\n",
    "from matplotlib import pyplot as plt"
   ]
  },
  {
   "cell_type": "code",
   "execution_count": null,
   "metadata": {},
   "outputs": [],
   "source": [
    "import datajoint as dj\n",
    "import calcium as ca"
   ]
  },
  {
   "cell_type": "code",
   "execution_count": null,
   "metadata": {},
   "outputs": [],
   "source": [
    "schema = dj.schema('dln_YOUR_USERNAME_analysis')"
   ]
  },
  {
   "cell_type": "code",
   "execution_count": null,
   "metadata": {},
   "outputs": [],
   "source": [
    "dj.Di(ca)"
   ]
  },
  {
   "cell_type": "code",
   "execution_count": null,
   "metadata": {},
   "outputs": [],
   "source": [
    "combined = ca.Pupil * ca.Treadmill * ca.ScanInfo"
   ]
  },
  {
   "cell_type": "code",
   "execution_count": null,
   "metadata": {},
   "outputs": [],
   "source": [
    "key = combined.fetch('KEY')[0]\n",
    "r, v, f =(combined & key).fetch1('pupil_r', 'treadmill_vel', 'fps', squeeze=True)\n",
    "t = np.r_[:r.size]/f\n",
    "\n",
    "plt.plot(t, r)\n",
    "plt.plot(t, abs(v)*10)\n",
    "\n",
    "plt.legend(('pupil radius', 'running speed'));\n"
   ]
  },
  {
   "cell_type": "code",
   "execution_count": null,
   "metadata": {},
   "outputs": [],
   "source": [
    "@schema\n",
    "class PupilCorr(dj.Computed):\n",
    "    definition = \"\"\"\n",
    "    -> ca.Pupil\n",
    "    -> ca.Treadmill \n",
    "    -> ca.ScanInfo\n",
    "    ---\n",
    "    pupil_corr :  float   # correlation between pupil radius and locomotion velccity\n",
    "    \"\"\"\n",
    "    \n",
    "    def make(self, key):\n",
    "        r, v, f =(ca.Pupil * ca.Treadmill * ca.ScanInfo & key).fetch1(\n",
    "            'pupil_r', 'treadmill_vel', 'fps', squeeze=True)\n",
    "        t = np.r_[:r.size]/f\n",
    "        v = abs(v)\n",
    "        v = v- np.nanmean(v, keepdims=True)\n",
    "        r = r- np.nanmean(r, keepdims=True)\n",
    "        r = r / np.sqrt(np.nanmean(r**2))\n",
    "        v = v / np.sqrt(np.nanmean(v**2))\n",
    "        c = np.nanmean(r * v)\n",
    "        self.insert1(dict(key, pupil_corr=c))\n",
    "        "
   ]
  },
  {
   "cell_type": "code",
   "execution_count": null,
   "metadata": {},
   "outputs": [],
   "source": [
    "PupilCorr.key_source"
   ]
  },
  {
   "cell_type": "code",
   "execution_count": null,
   "metadata": {},
   "outputs": [],
   "source": [
    "PupilCorr.populate(display_progress=True, suppress_errors=False,\n",
    "                   reserve_jobs=True)"
   ]
  },
  {
   "cell_type": "code",
   "execution_count": null,
   "metadata": {},
   "outputs": [],
   "source": [
    "PupilCorr()"
   ]
  }
 ],
 "metadata": {
  "kernelspec": {
   "display_name": "Python 3",
   "language": "python",
   "name": "python3"
  },
  "language_info": {
   "codemirror_mode": {
    "name": "ipython",
    "version": 3
   },
   "file_extension": ".py",
   "mimetype": "text/x-python",
   "name": "python",
   "nbconvert_exporter": "python",
   "pygments_lexer": "ipython3",
   "version": "3.7.4"
  }
 },
 "nbformat": 4,
 "nbformat_minor": 2
}
